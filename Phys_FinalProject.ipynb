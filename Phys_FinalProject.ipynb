{
  "nbformat": 4,
  "nbformat_minor": 0,
  "metadata": {
    "colab": {
      "name": "Phys_FinalProject.ipynb",
      "provenance": []
    },
    "kernelspec": {
      "name": "python3",
      "display_name": "Python 3"
    },
    "language_info": {
      "name": "python"
    }
  },
  "cells": [
    {
      "cell_type": "code",
      "execution_count": 1,
      "metadata": {
        "id": "PtwaL6jNgdv7"
      },
      "outputs": [],
      "source": [
        "import pandas as pd\n",
        "import numpy as np\n",
        "import matplotlib.pyplot as plt\n",
        "from scipy.optimize import curve_fit\n",
        "from scipy.integrate import solve_ivp\n"
      ]
    },
    {
      "cell_type": "code",
      "source": [
        "from google.colab import drive\n",
        "drive.mount('/content/drive')"
      ],
      "metadata": {
        "colab": {
          "base_uri": "https://localhost:8080/"
        },
        "id": "ViHqfiqW3u5h",
        "outputId": "9ed2c784-9a80-4c15-ceca-c7b3df340c0b"
      },
      "execution_count": 2,
      "outputs": [
        {
          "output_type": "stream",
          "name": "stdout",
          "text": [
            "Drive already mounted at /content/drive; to attempt to forcibly remount, call drive.mount(\"/content/drive\", force_remount=True).\n"
          ]
        }
      ]
    },
    {
      "cell_type": "markdown",
      "source": [
        "mass: mass (in solar masses M⊙)\n",
        "logg: base-10 logarithm of the surface gravity in CGS units "
      ],
      "metadata": {
        "id": "jNzeC9hUhILv"
      }
    },
    {
      "cell_type": "code",
      "source": [
        "def read_data(filename, delim):\n",
        "  '''\n",
        "  Input: \n",
        "    Directory to the file to be read\n",
        "    Type of delimiter used in the file\n",
        "\n",
        "  Output:\n",
        "    A numpy array composed of all log(g) and mass values in the dataset.\n",
        "  '''\n",
        "  data = pd.read_csv(filename, sep = delim)\n",
        "  return data[['logg', 'mass']].to_numpy()\n",
        "\n",
        "  \n",
        "def unit_conversion(logg, mass):\n",
        "  '''\n",
        "  This function converts the unit of surface gravity from CGS units to average Earth radii unit.\n",
        "  '''\n",
        "\n",
        "  # Define constants\n",
        "\n",
        "  average_earth_radii = 6371 * 10**3 # m\n",
        "  gravitation_constant = 6.6743 * 10**-11 # m3 kg-1 s-2\n",
        "  solar_mass_kg = 1.98847 * 10**30 # kg\n",
        "\n",
        "  # Convert surface gravity from CGS to SI\n",
        "\n",
        "  surface_gravity = 10**logg * 10**-2\n",
        "      \n",
        "  # Convert solar mass to kg for mass\n",
        "  mass_kg = solar_mass_kg * mass  \n",
        "\n",
        "  # Radius in m is calculated from Newton's law of universal gravitation.\n",
        "  # Radius in m used to convert radius of the star to average earth radii unit\n",
        "  radius_m = np.sqrt(gravitation_constant * mass_kg / surface_gravity)\n",
        "  radius_avgEarth = (radius_m) / average_earth_radii\n",
        "\n",
        "  return radius_avgEarth, mass_kg, radius_m"
      ],
      "metadata": {
        "id": "PNJae99mg1hE"
      },
      "execution_count": 3,
      "outputs": []
    },
    {
      "cell_type": "code",
      "source": [
        "data_file = '/content/drive/MyDrive/white_dwarf_data.csv'"
      ],
      "metadata": {
        "id": "pxt27x7iwUCO"
      },
      "execution_count": 4,
      "outputs": []
    },
    {
      "cell_type": "code",
      "source": [
        "data = read_data(data_file, ',')\n",
        "logg = data[:, 0]\n",
        "mass = data[:, 1]\n",
        "plt.scatter(mass, [unit_conversion(i,j)[0] for i,j in zip(logg, mass)], color = 'orange')\n",
        "plt.title('M vs R')\n",
        "plt.xlabel('M (solar mass)')\n",
        "plt.ylabel('R (average Earth radii)')\n",
        "plt.grid()\n",
        "plt.show()"
      ],
      "metadata": {
        "colab": {
          "base_uri": "https://localhost:8080/",
          "height": 294
        },
        "id": "Z4KR_8f7id-W",
        "outputId": "ea353f1a-0971-4a0c-98ae-71b325beb68a"
      },
      "execution_count": 5,
      "outputs": [
        {
          "output_type": "display_data",
          "data": {
            "image/png": "[encoded data removed]",
            "text/plain": [
              "<Figure size 432x288 with 1 Axes>"
            ]
          },
          "metadata": {
            "needs_background": "light"
          }
        }
      ]
    },
    {
      "cell_type": "markdown",
      "source": [
        "# Q1c. \n",
        "In this section we will\n",
        "  1. Fit the data to find K* and n\\*\n",
        "  2. Using n* and Lane-Emnde equation, find ρc\n",
        "  3. Plot M vs ρc\n",
        "\n",
        "\n",
        "In the Lane-Emden equation ξ is a dimensionless radius and θ is related to the density, and thus the pressure, by ρ = ρ$_{c}$θⁿ for central density ρ$_{c}$.\n",
        "The index *n* is the polytropic index that appears in the polytropic equation of state,\n",
        "P = K ρ$^{1+1/n}$, where P and ρ are the pressure and density respectively, and K is a constant of proportionality.\n",
        "\n",
        "Thus, here we will start by giving q and c (proportionality constant of Eq. 7) initial values to iterate further. We will use c to find K.\n",
        "\n",
        "We are using Eq.7 which gives the relationship between M and R"
      ],
      "metadata": {
        "id": "n_b2DNgyZ0XK"
      }
    },
    {
      "cell_type": "code",
      "source": [
        "def mass_radius(R, A, n):\n",
        "  M  = A * (R ** ((3 - n) / (1 - n)))\n",
        "  return M "
      ],
      "metadata": {
        "id": "tLj2N4XYqteC"
      },
      "execution_count": 6,
      "outputs": []
    },
    {
      "cell_type": "code",
      "source": [
        "\n",
        "\n",
        "def lane_emden_solver(n):   \n",
        "   # We will solve lane emden equation to get propagated span of xi, \n",
        "   # theta and theta_dot. We will also deal with the end of the iteration.\n",
        "\n",
        "    def is_surface(xi, theta, n): return theta[0]\n",
        "    is_surface.terminal = True\n",
        "    is_surface.direction = 0\n",
        "\n",
        "    theta_0 = [1, 0]  # Initial value for theta\n",
        "    xi_span = [0, 10]  # Initial value for xi and possible span\n",
        "\n",
        "    r = solve_ivp(fun=lane_emden, t_span=xi_span,\n",
        "                  y0=theta_0, events=is_surface, args=(n,))\n",
        "\n",
        "    # If propagation is successful:\n",
        "    if r.status >= 0:\n",
        "        return r.t, r.y\n",
        "    else:\n",
        "        print(\"It seems solver is not able to obtain a solution!\")\n",
        "\n",
        "def lane_emden(xi, theta, n):\n",
        "  # Write the lane emden equation to be used in the solver.\n",
        "  if xi != 0:\n",
        "    return np.array([theta[1], (-xi * np.power(theta[0], n, out=np.zeros_like(theta[0]), where=theta[0] > 0) - 2 * theta[1]) / (xi)])\n",
        "  else:\n",
        "    return [theta[1], 0]\n"
      ],
      "metadata": {
        "id": "RFX8ueMn3upm"
      },
      "execution_count": 7,
      "outputs": []
    },
    {
      "cell_type": "code",
      "source": [
        "def fit_curve(low_mass_threshold=None, low_mass = True):\n",
        "  data = read_data(data_file, ',')\n",
        "  logg = data[:, 0]\n",
        "  mass = data[:, 1]\n",
        "  radius_avgEarth, mass_kg, radius_m = unit_conversion(logg,mass)\n",
        "  q_initial = 3.0\n",
        "  A_initial = 9e50 \n",
        "  if low_mass :\n",
        "    M = mass_kg[mass < low_mass_threshold]\n",
        "    R = radius_m[mass < low_mass_threshold]\n",
        "  else:\n",
        "    M = mass_kg\n",
        "    R = radius_m\n",
        "  if (A_initial is not None) and (q_initial is not None):\n",
        "      # If A and q are to be optimized\n",
        "      def create_fitting_function(R, A, q): \n",
        "        n = q/(5-q)\n",
        "        return mass_radius(R = R, n=n, A = A)\n",
        "\n",
        "  soln1, soln2 = curve_fit(f=create_fitting_function, xdata=R, ydata=M, p0=[A_initial, q_initial])\n",
        "  A, q = soln1\n",
        "  # Now that we obtained A and q, we can use A to obtain K. A is a placeholder \n",
        "  # for the constant part of mass-radius relation.\n",
        "  n = q / (5-q) # one of our conditions\n",
        "  xi, theta = lane_emden_solver(n)\n",
        "  # The following are required for the mass calculation\n",
        "  xi_star = xi[-1]\n",
        "  theta_dot_xi_star = theta[1, -1]\n",
        "  G = 6.6743 * 10**-11 \n",
        "  B = (((n + 1) / (4 * np.pi * G)) ** (((n - 3) / (2 - 2 * n)) + 1.5)) * ((xi_star) ** (((n - 3) / (1 - n)) + 2)) * 4 * np.pi * (-theta_dot_xi_star)\n",
        "\n",
        "  K = (A / B) ** ((n - 1) / (n))\n",
        "  print('Estimated parameters for the fitted curve are:')\n",
        "  print(f'K = {K}\\nq = {q}\\nA = {A}')\n",
        "\n",
        "\n",
        "  # We know that q is an integer (from theory). Since we cannot constrain a \n",
        "  # fitting parameter to be an integer, we will set q to be the nearest integer \n",
        "  # Then, we will do a second fit for the other parameter, K∗. \n",
        "\n",
        "  # We had q to be around 3 from the previous part, also the suggestion.\n",
        "\n",
        "  # Set initial guesses as values obtained from the previous part.\n",
        "  q_fixed = np.round(q) # integer\n",
        "  A_new = A\n",
        "\n",
        "  # Following a similar logic, we fit another curve.\n",
        "\n",
        "  if (A_new is not None) and (q_fixed is not None):\n",
        "        def create_fitting_function(R, A_new): \n",
        "          n = q_fixed/(5-q_fixed)\n",
        "          return mass_radius(R = R, n=n, A = A_new)\n",
        "\n",
        "  soln1_new, soln2_new = curve_fit(f=create_fitting_function, xdata=R, ydata=M, p0=[A_new])\n",
        "  A2= soln1_new\n",
        "\n",
        "\n",
        "  n = q_fixed / (5-q_fixed) # one of our conditions\n",
        "  xi, theta = lane_emden_solver(n)\n",
        "  # The following are required for the mass calculation\n",
        "  xi_star = xi[-1]\n",
        "  theta_dot_xi_star = theta[1, -1]\n",
        "  G = 6.6743 * 10**-11 \n",
        "  B = (((n + 1) / (4 * np.pi * G)) ** (((n - 3) / (2 - 2 * n)) + 1.5)) * ((xi_star) ** (((n - 3) / (1 - n)) + 2)) * 4 * np.pi * (-theta_dot_xi_star)\n",
        "  K_new = (A2 / B) ** ((n - 1) / (n))\n",
        "\n",
        "  print('Estimated parameters for the fitted curve are:')\n",
        "  print(f'K = {K_new}\\nq = {q_fixed}\\nA = {A2}')\n",
        "\n",
        "\n",
        "\n",
        "fit_curve(low_mass_threshold= 0.34)\n"
      ],
      "metadata": {
        "colab": {
          "base_uri": "https://localhost:8080/"
        },
        "id": "aNjA26UuvACS",
        "outputId": "683f6536-edbd-4b22-bb44-c3f2db0d4ae1"
      },
      "execution_count": 8,
      "outputs": [
        {
          "output_type": "stream",
          "name": "stdout",
          "text": [
            "Estimated parameters for the fitted curve are:\n",
            "K = 2884454.4921291852\n",
            "q = 3.001151877245955\n",
            "A = 8.473442892590138e+50\n",
            "Estimated parameters for the fitted curve are:\n",
            "K = [2851072.9563692]\n",
            "q = 3.0\n",
            "A = [1.02261333e+51]\n"
          ]
        }
      ]
    },
    {
      "cell_type": "code",
      "source": [
        ""
      ],
      "metadata": {
        "id": "ErCUeJ92ErJm"
      },
      "execution_count": 8,
      "outputs": []
    },
    {
      "cell_type": "code",
      "source": [
        ""
      ],
      "metadata": {
        "id": "Bsg3GgzeErHg"
      },
      "execution_count": 8,
      "outputs": []
    },
    {
      "cell_type": "code",
      "source": [
        ""
      ],
      "metadata": {
        "id": "k521SGIdErFG"
      },
      "execution_count": 8,
      "outputs": []
    },
    {
      "cell_type": "markdown",
      "source": [
        "# Q2"
      ],
      "metadata": {
        "id": "pg4zm3q4Eucm"
      }
    },
    {
      "cell_type": "markdown",
      "source": [
        "Plot M vs R curve."
      ],
      "metadata": {
        "id": "77YjZm4_RWk6"
      }
    },
    {
      "cell_type": "code",
      "source": [
        "def tov(r, initials, K, n):\n",
        "  # Equation 12 from the assignment sheet, relating density and pressure.\n",
        "  # Writing equations 13, 14,15 and 16 from the assignment sheet)\n",
        "  m, v, p, mp = initials\n",
        "  rho = (np.abs(p) / K) ** (1/2) # n = 1 for neutron stars\n",
        "\n",
        "  m_update = 4 * np.pi * (r ** 2) * rho\n",
        "  v_nominator = (m + 4 * np.pi * (r ** 3) * p)\n",
        "  v_denominator = (r * (r - 2 * m))    \n",
        "  if v_denominator != 0:\n",
        "      v_update = 2 * (v_nominator / v_denominator)\n",
        "  else: # NoneType Error \n",
        "      v_update = 0  \n",
        "\n",
        "  p_update = -0.5 * (p + rho) * v_update  \n",
        "\n",
        "  if r != 0: # baryonic mass\n",
        "      m_p_update = 4 * np.pi * ((1 - ((2 * m) / (r))) ** (-0.5)) * (r ** 2) * rho \n",
        "  else:\n",
        "      m_p_update = 0\n",
        "\n",
        "  return m_update, v_update, p_update, m_p_update\n",
        "\n",
        "# Termination criteria\n",
        "def terminate(r, initials, K, n): \n",
        "  m, v, p, mp = initials\n",
        "  return p - 1e-50\n",
        "\n",
        "def tov_ivp(pc, K, n):\n",
        "    # Initial value the variables: mass, time dilation, pressure, baryonic mass:\n",
        "    initials = [0, 0, pc, 0]\n",
        "    # Possible radius span\n",
        "    r_span = [0, 1e15]\n",
        "\n",
        "    # Solution of the IVP\n",
        "    terminate.terminal = True\n",
        "    terminate.direction = 0 # trigger event. \n",
        "    r = solve_ivp(fun=tov, t_span=r_span,\n",
        "                  y0=initials, events=terminate, args=(K, n), max_step = 1)\n",
        "    points = r.t \n",
        "    solution = r.y\n",
        "    return points, solution\n"
      ],
      "metadata": {
        "id": "MWMRT_BwEqwZ"
      },
      "execution_count": 9,
      "outputs": []
    },
    {
      "cell_type": "code",
      "source": [
        "N1 = 100 # # of (K_SN) points\n",
        "N2 = 200 # # of (p_c) points\n",
        "\n",
        "gravitation_constant = 6.6743 * 10**-11 # m3 kg-1 s-2\n",
        "solar_mass_kg = 1.98847 * 10**30 # kg\n",
        "speed_of_light = 299792458.0 # m s^-1\n",
        "n = 1\n",
        "\n",
        "# Set values to go through for constant K\n",
        "kns_points = np.arange(N1 - int(N1 / 2) + 1,100 + int(N1 / 2))\n",
        "# Get the actual size of the constructed array\n",
        "N1 = len(kns_points)\n",
        "\n",
        "# In the units that are designed such that the values of physical quantities in \n",
        "#this problem will be around unity. There we haveKNS ≈ 100. Find its location.\n",
        "ind = np.where(kns_points == 100)[0][0]\n",
        "\n",
        "\n",
        "# Generate central pressure sampling points, convert to geometric units.\n",
        "cp = np.logspace(18, 45, N2) * (((gravitation_constant ** 3) * (solar_mass_kg ** 2)) / (speed_of_light ** 8))\n",
        "\n",
        "# Create containers for TOV equation variables\n",
        "mass = np.empty((N1, N2))\n",
        "radius = np.empty((N1, N2))\n",
        "bary_mass = np.empty((N1, N2))\n",
        "\n",
        "# Iteration \n",
        "for i in range(len(kns_points)):\n",
        "    for j in range(len(cp)):\n",
        "        # Solution of the TOV equations\n",
        "        points, solution = tov_ivp(cp[j], kns_points[i], n)\n",
        "        # Get the latest element of mass, radius and rest mass solutions\n",
        "        mass[i, j] = solution[0, -1]\n",
        "        bary_mass[i, j] = solution[-1, -1]\n",
        "        radius[i, j] = points[-1]\n",
        "\n",
        "\n",
        "\n",
        "# Pressure to density conversion, from equation 9.\n",
        "rho = (np.abs(p) / kns_points[ind]) ** (1/2) # n = 1 for neutron stars\n",
        "# Geometric unit to SI unit conversion\n",
        "rho_si = rho / (((gravitation_constant ** 3) * (solar_mass_kg ** 2)) / (speed_of_light ** 6))\n",
        "radius_si = radius * ((gravitation_constant * solar_mass_kg) / (speed_of_light ** 2)) / 1000\n",
        "\n",
        "plt.scatter(mass[ind, :],radius_si[ind, :] , s= 6, c = 'orangered')\n",
        "plt.xlabel('Mass')\n",
        "plt.ylabel('Radius')\n",
        "plt.title('Mass-Radius Curve for NSs')"
      ],
      "metadata": {
        "id": "jmpXKyuGIx68",
        "colab": {
          "base_uri": "https://localhost:8080/",
          "height": 310
        },
        "outputId": "339b6aae-4d29-45d2-c79a-73d334d77fc8"
      },
      "execution_count": 145,
      "outputs": [
        {
          "output_type": "execute_result",
          "data": {
            "text/plain": [
              "Text(0.5, 1.0, 'Mass-Radius Curve for NSs')"
            ]
          },
          "metadata": {},
          "execution_count": 145
        },
        {
          "output_type": "display_data",
          "data": {
            "image/png": "[encoded data removed]",
            "text/plain": [
              "<Figure size 432x288 with 1 Axes>"
            ]
          },
          "metadata": {
            "needs_background": "light"
          }
        }
      ]
    },
    {
      "cell_type": "markdown",
      "source": [
        "b. Plot ∆ vs R. \n",
        "As suggested fractional binding energy is obtained in above integration using formula 16 and 17."
      ],
      "metadata": {
        "id": "uIWHlgw8Sh9h"
      }
    },
    {
      "cell_type": "code",
      "source": [
        "frac_bind_energy = (bary_mass - mass) / mass \n",
        "plt.scatter(frac_bind_energy[ind, :], radius_si[ind, :] , s= 6, c = 'orangered' )\n",
        "plt.xlabel('Fractional Binding Energy')\n",
        "plt.ylabel('Radius')\n",
        "plt.title('Fractional Binding Energy-Radius Curve for NSs')"
      ],
      "metadata": {
        "colab": {
          "base_uri": "https://localhost:8080/",
          "height": 310
        },
        "id": "O_3pgsLMSXWK",
        "outputId": "f877f697-89c6-4c4d-f9e8-ddbfc49af38b"
      },
      "execution_count": 95,
      "outputs": [
        {
          "output_type": "execute_result",
          "data": {
            "text/plain": [
              "Text(0.5, 1.0, 'Fractional Binding Energy-Radius Curve for NSs')"
            ]
          },
          "metadata": {},
          "execution_count": 95
        },
        {
          "output_type": "display_data",
          "data": {
            "image/png": "[encoded data removed]",
            "text/plain": [
              "<Figure size 432x288 with 1 Axes>"
            ]
          },
          "metadata": {
            "needs_background": "light"
          }
        }
      ]
    },
    {
      "cell_type": "markdown",
      "source": [
        "c. Plot the M vs ρc curve. Stability criteria are given in equation18 and 19. We need to take derivative of M wrt pc."
      ],
      "metadata": {
        "id": "HhnLc9wHTWl0"
      }
    },
    {
      "cell_type": "code",
      "source": [
        "derivative = np.gradient(mass[ind, :], rho_si)\n",
        "stable_dict = []\n",
        "instable_dict = []\n",
        "\n",
        "for i in range(len(derivative)):\n",
        "  if derivative[i] < 0:\n",
        "    instable_dict.append(i)\n",
        "  else:\n",
        "    stable_dict.append(i)\n",
        "\n",
        "stable_mass = mass[ind, stable_dict]\n",
        "stable_rho = rho_SI[stable_dict]\n",
        "instable_mass = mass[ind, instable_dict]\n",
        "instable_rho = rho_SI[instable_dict]\n",
        "plt.loglog(stable_mass, stable_rho, c = 'orangered',  linewidth=4.0, label = 'stable')\n",
        "plt.loglog( instable_mass, instable_rho, c= 'teal', linestyle = 'dotted', linewidth=4.0, label = 'unstable')\n",
        "plt.legend()\n",
        "plt.xlabel('M')\n",
        "plt.ylabel('ρc')\n",
        "plt.title(' M vs ρc Curve for NSs')\n",
        "plt.legend()"
      ],
      "metadata": {
        "colab": {
          "base_uri": "https://localhost:8080/",
          "height": 314
        },
        "id": "CNdTcXzKTVus",
        "outputId": "89003828-f17e-4ae3-98f5-4d8b34a31990"
      },
      "execution_count": 123,
      "outputs": [
        {
          "output_type": "execute_result",
          "data": {
            "text/plain": [
              "<matplotlib.legend.Legend at 0x7f5e38cc2d50>"
            ]
          },
          "metadata": {},
          "execution_count": 123
        },
        {
          "output_type": "display_data",
          "data": {
            "image/png": "[encoded data removed]",
            "text/plain": [
              "<Figure size 432x288 with 1 Axes>"
            ]
          },
          "metadata": {
            "needs_background": "light"
          }
        }
      ]
    },
    {
      "cell_type": "markdown",
      "source": [
        "d. Plot Mmax(K) vs K"
      ],
      "metadata": {
        "id": "i6ZTx9PeXQcI"
      }
    },
    {
      "cell_type": "code",
      "source": [
        "# Get of the maximum masses for each polytopic constant from the mass container.\n",
        "mass_max = np.max(mass, axis = 1)\n",
        "plt.scatter(mass_max, kns_points, c = 'teal', s = 5)\n",
        "plt.legend()\n",
        "plt.xlabel('Mmax(K)')\n",
        "plt.ylabel('K')\n",
        "plt.title('Mmax(K) vs K Curve for NSs')\n",
        "plt.legend()"
      ],
      "metadata": {
        "colab": {
          "base_uri": "https://localhost:8080/",
          "height": 343
        },
        "id": "wAIUWH5cVqa2",
        "outputId": "0ba9cd49-c318-4f3b-bbd0-1fce8b558bfe"
      },
      "execution_count": 127,
      "outputs": [
        {
          "output_type": "stream",
          "name": "stderr",
          "text": [
            "No handles with labels found to put in legend.\n",
            "No handles with labels found to put in legend.\n"
          ]
        },
        {
          "output_type": "execute_result",
          "data": {
            "text/plain": [
              "<matplotlib.legend.Legend at 0x7f5e393b1e50>"
            ]
          },
          "metadata": {},
          "execution_count": 127
        },
        {
          "output_type": "display_data",
          "data": {
            "image/png": "[encoded data removed]",
            "text/plain": [
              "<Figure size 432x288 with 1 Axes>"
            ]
          },
          "metadata": {
            "needs_background": "light"
          }
        }
      ]
    },
    {
      "cell_type": "markdown",
      "source": [
        "The most massive neutron star to be observed so far has a mass of 2.14M⊙, we'll use this value to constraint maximum mass"
      ],
      "metadata": {
        "id": "hPjjFG99Yg3k"
      }
    },
    {
      "cell_type": "code",
      "source": [
        "max_allowable = np.where(np.isclose(mass_max, 2.14, atol = 0.01))\n",
        "max_allowable_kns_y = mass_max[max_allowable][0]\n",
        "max_allowable_kns_x_lower = kns_points[0]\n",
        "max_allowable_kns_x_upper = kns_points[-1]\n"
      ],
      "metadata": {
        "id": "Var480f3Y1W3"
      },
      "execution_count": 140,
      "outputs": []
    },
    {
      "cell_type": "code",
      "source": [
        "max_allowable_m_x = [kns_points[max_allowable][0]]\n",
        "max_allowable_m_y_lower = mass_max[0]\n",
        "max_allowable_m_y_upper =  mass_max[-1]"
      ],
      "metadata": {
        "id": "W4oV5lppZGGE"
      },
      "execution_count": 141,
      "outputs": []
    },
    {
      "cell_type": "code",
      "source": [
        "print(f'Maximum value allowed for K is {max_allowable_kns_x_upper}')\n"
      ],
      "metadata": {
        "colab": {
          "base_uri": "https://localhost:8080/"
        },
        "id": "l2sQ_58eaogY",
        "outputId": "c1082a50-c905-4903-fb16-e82ca77532f4"
      },
      "execution_count": 143,
      "outputs": [
        {
          "output_type": "stream",
          "name": "stdout",
          "text": [
            "Maximum value allowed for K is 149\n"
          ]
        }
      ]
    },
    {
      "cell_type": "code",
      "source": [
        "plt.plot(np.array([mass_max[max_allowable][0], mass_max[max_allowable][0]]),np.array([max_allowable_kns_x_lower, max_allowable_kns_x_upper ]), color = \"orangered\")\n",
        "plt.plot(np.array(np.array([max_allowable_m_y_lower, max_allowable_m_y_upper])), [kns_points[max_allowable][0], kns_points[max_allowable][0]], color = \"orangered\")\n",
        "plt.scatter(mass_max, kns_points, c = 'teal', s = 5)\n",
        "plt.legend()\n",
        "plt.xlabel('Mmax(K)')\n",
        "plt.ylabel('K')\n",
        "plt.title('Mmax(K) vs K Curve for NSs')\n",
        "plt.legend()\n"
      ],
      "metadata": {
        "colab": {
          "base_uri": "https://localhost:8080/",
          "height": 343
        },
        "id": "5_yGolsqyJkF",
        "outputId": "cae88583-a50a-475a-96db-821818a65795"
      },
      "execution_count": 154,
      "outputs": [
        {
          "output_type": "stream",
          "name": "stderr",
          "text": [
            "No handles with labels found to put in legend.\n",
            "No handles with labels found to put in legend.\n"
          ]
        },
        {
          "output_type": "execute_result",
          "data": {
            "text/plain": [
              "<matplotlib.legend.Legend at 0x7f5e38817750>"
            ]
          },
          "metadata": {},
          "execution_count": 154
        },
        {
          "output_type": "display_data",
          "data": {
            "image/png": "[encoded data removed]",
            "text/plain": [
              "<Figure size 432x288 with 1 Axes>"
            ]
          },
          "metadata": {
            "needs_background": "light"
          }
        }
      ]
    },
    {
      "cell_type": "code",
      "source": [
        ""
      ],
      "metadata": {
        "id": "nQRAQz4MZRu6"
      },
      "execution_count": null,
      "outputs": []
    }
  ]
}